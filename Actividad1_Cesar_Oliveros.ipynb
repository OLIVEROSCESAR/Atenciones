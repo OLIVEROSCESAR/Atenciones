{
 "cells": [
  {
   "cell_type": "markdown",
   "metadata": {},
   "source": [
    "#### TRANSFORMACIONES BASE TICKETS"
   ]
  },
  {
   "cell_type": "code",
   "execution_count": 61,
   "metadata": {},
   "outputs": [
    {
     "data": {
      "text/plain": [
       "polars.config.Config"
      ]
     },
     "execution_count": 61,
     "metadata": {},
     "output_type": "execute_result"
    }
   ],
   "source": [
    "import polars as pl\n",
    "from polars import Config\n",
    "\n",
    "Config.set_fmt_str_lengths(100)"
   ]
  },
  {
   "cell_type": "markdown",
   "metadata": {},
   "source": [
    "##### IMPORTANDO TICKET HISTORICOS"
   ]
  },
  {
   "cell_type": "code",
   "execution_count": 62,
   "metadata": {},
   "outputs": [
    {
     "data": {
      "text/html": [
       "<div><style>\n",
       ".dataframe > thead > tr,\n",
       ".dataframe > tbody > tr {\n",
       "  text-align: right;\n",
       "  white-space: pre-wrap;\n",
       "}\n",
       "</style>\n",
       "<small>shape: (10, 7)</small><table border=\"1\" class=\"dataframe\"><thead><tr><th>Numero Ticket</th><th>Ubicacion</th><th>Service Desk</th><th>Estado</th><th>Fecha Creacion</th><th>Fecha Termino</th><th>Fecha Cierre</th></tr><tr><td>str</td><td>str</td><td>str</td><td>str</td><td>date</td><td>date</td><td>date</td></tr></thead><tbody><tr><td>&quot;WO0000004122687&quot;</td><td>&quot;AREQUIPA - 215000&quot;</td><td>&quot;Zona Norte&quot;</td><td>&quot;Cerrado&quot;</td><td>2022-06-01</td><td>2022-06-14</td><td>2022-06-14</td></tr><tr><td>&quot;WO0000004122649&quot;</td><td>&quot;METRO AV. WIESSE - 191106&quot;</td><td>&quot;Zona Centro&quot;</td><td>&quot;Cerrado&quot;</td><td>2022-06-01</td><td>2022-06-17</td><td>2022-06-17</td></tr><tr><td>&quot;WO0000004122502&quot;</td><td>&quot;NICOLAS AYLLON - 191027&quot;</td><td>&quot;Zona Centro&quot;</td><td>&quot;Cerrado&quot;</td><td>2022-06-01</td><td>2022-06-08</td><td>2022-06-08</td></tr><tr><td>&quot;WO0000004122513&quot;</td><td>&quot;JAUREGUI - 405005&quot;</td><td>&quot;Zona Norte&quot;</td><td>&quot;Cerrado&quot;</td><td>2022-06-01</td><td>2022-06-18</td><td>2022-06-18</td></tr><tr><td>&quot;WO0000004122741&quot;</td><td>&quot;CANTO GRANDE - 191096&quot;</td><td>&quot;Zona Centro&quot;</td><td>&quot;Cerrado&quot;</td><td>2022-06-01</td><td>2022-06-08</td><td>2022-06-08</td></tr><tr><td>&quot;WO0000004122511&quot;</td><td>&quot;CHIMPU OCLLO - 191113&quot;</td><td>&quot;Zona Centro&quot;</td><td>&quot;Cerrado&quot;</td><td>2022-06-01</td><td>2022-06-03</td><td>2022-06-03</td></tr><tr><td>&quot;WO0000004122522&quot;</td><td>&quot;MINI AGENCIA BCP SALAMANCA - 191090&quot;</td><td>&quot;Zona Centro&quot;</td><td>&quot;Cerrado&quot;</td><td>2022-06-01</td><td>2022-06-07</td><td>2022-06-07</td></tr><tr><td>&quot;WO0000004122302&quot;</td><td>&quot;IMPERIAL - 255001&quot;</td><td>&quot;Zona Norte&quot;</td><td>&quot;Cerrado&quot;</td><td>2022-06-01</td><td>2022-06-10</td><td>2022-06-10</td></tr><tr><td>&quot;WO0000004122360&quot;</td><td>&quot;AREQUIPA - 215000&quot;</td><td>&quot;Zona Norte&quot;</td><td>&quot;Cerrado&quot;</td><td>2022-06-01</td><td>2022-06-13</td><td>2022-06-13</td></tr><tr><td>&quot;WO0000004122688&quot;</td><td>&quot;AREQUIPA - 215000&quot;</td><td>&quot;Zona Norte&quot;</td><td>&quot;Cerrado&quot;</td><td>2022-06-01</td><td>2022-06-17</td><td>2022-06-17</td></tr></tbody></table></div>"
      ],
      "text/plain": [
       "shape: (10, 7)\n",
       "┌──────────────┬──────────────┬──────────────┬─────────┬──────────────┬──────────────┬─────────────┐\n",
       "│ Numero       ┆ Ubicacion    ┆ Service Desk ┆ Estado  ┆ Fecha        ┆ Fecha        ┆ Fecha       │\n",
       "│ Ticket       ┆ ---          ┆ ---          ┆ ---     ┆ Creacion     ┆ Termino      ┆ Cierre      │\n",
       "│ ---          ┆ str          ┆ str          ┆ str     ┆ ---          ┆ ---          ┆ ---         │\n",
       "│ str          ┆              ┆              ┆         ┆ date         ┆ date         ┆ date        │\n",
       "╞══════════════╪══════════════╪══════════════╪═════════╪══════════════╪══════════════╪═════════════╡\n",
       "│ WO0000004122 ┆ AREQUIPA -   ┆ Zona Norte   ┆ Cerrado ┆ 2022-06-01   ┆ 2022-06-14   ┆ 2022-06-14  │\n",
       "│ 687          ┆ 215000       ┆              ┆         ┆              ┆              ┆             │\n",
       "│ WO0000004122 ┆ METRO AV.    ┆ Zona Centro  ┆ Cerrado ┆ 2022-06-01   ┆ 2022-06-17   ┆ 2022-06-17  │\n",
       "│ 649          ┆ WIESSE -     ┆              ┆         ┆              ┆              ┆             │\n",
       "│              ┆ 191106       ┆              ┆         ┆              ┆              ┆             │\n",
       "│ WO0000004122 ┆ NICOLAS      ┆ Zona Centro  ┆ Cerrado ┆ 2022-06-01   ┆ 2022-06-08   ┆ 2022-06-08  │\n",
       "│ 502          ┆ AYLLON -     ┆              ┆         ┆              ┆              ┆             │\n",
       "│              ┆ 191027       ┆              ┆         ┆              ┆              ┆             │\n",
       "│ WO0000004122 ┆ JAUREGUI -   ┆ Zona Norte   ┆ Cerrado ┆ 2022-06-01   ┆ 2022-06-18   ┆ 2022-06-18  │\n",
       "│ 513          ┆ 405005       ┆              ┆         ┆              ┆              ┆             │\n",
       "│ WO0000004122 ┆ CANTO GRANDE ┆ Zona Centro  ┆ Cerrado ┆ 2022-06-01   ┆ 2022-06-08   ┆ 2022-06-08  │\n",
       "│ 741          ┆ - 191096     ┆              ┆         ┆              ┆              ┆             │\n",
       "│ WO0000004122 ┆ CHIMPU OCLLO ┆ Zona Centro  ┆ Cerrado ┆ 2022-06-01   ┆ 2022-06-03   ┆ 2022-06-03  │\n",
       "│ 511          ┆ - 191113     ┆              ┆         ┆              ┆              ┆             │\n",
       "│ WO0000004122 ┆ MINI AGENCIA ┆ Zona Centro  ┆ Cerrado ┆ 2022-06-01   ┆ 2022-06-07   ┆ 2022-06-07  │\n",
       "│ 522          ┆ BCP          ┆              ┆         ┆              ┆              ┆             │\n",
       "│              ┆ SALAMANCA -  ┆              ┆         ┆              ┆              ┆             │\n",
       "│              ┆ 191090       ┆              ┆         ┆              ┆              ┆             │\n",
       "│ WO0000004122 ┆ IMPERIAL -   ┆ Zona Norte   ┆ Cerrado ┆ 2022-06-01   ┆ 2022-06-10   ┆ 2022-06-10  │\n",
       "│ 302          ┆ 255001       ┆              ┆         ┆              ┆              ┆             │\n",
       "│ WO0000004122 ┆ AREQUIPA -   ┆ Zona Norte   ┆ Cerrado ┆ 2022-06-01   ┆ 2022-06-13   ┆ 2022-06-13  │\n",
       "│ 360          ┆ 215000       ┆              ┆         ┆              ┆              ┆             │\n",
       "│ WO0000004122 ┆ AREQUIPA -   ┆ Zona Norte   ┆ Cerrado ┆ 2022-06-01   ┆ 2022-06-17   ┆ 2022-06-17  │\n",
       "│ 688          ┆ 215000       ┆              ┆         ┆              ┆              ┆             │\n",
       "└──────────────┴──────────────┴──────────────┴─────────┴──────────────┴──────────────┴─────────────┘"
      ]
     },
     "execution_count": 62,
     "metadata": {},
     "output_type": "execute_result"
    }
   ],
   "source": [
    "# Importando la base Historico\n",
    "\n",
    "historico = pl.read_csv(\n",
    "    source='./Tickets/Tickets Historico.txt',\n",
    "    separator=';',\n",
    "    columns = ['Numero Ticket', 'Ubicacion', 'Service Desk', 'Estado', 'Fecha Creacion', 'Fecha Termino' , 'Fecha Cierre'],\n",
    "    try_parse_dates = True, # yyyy-MM-dd\n",
    "    ignore_errors = True\n",
    ")\n",
    "\n",
    "historico.head(10)"
   ]
  },
  {
   "cell_type": "code",
   "execution_count": 63,
   "metadata": {},
   "outputs": [
    {
     "data": {
      "text/html": [
       "<div><style>\n",
       ".dataframe > thead > tr,\n",
       ".dataframe > tbody > tr {\n",
       "  text-align: right;\n",
       "  white-space: pre-wrap;\n",
       "}\n",
       "</style>\n",
       "<small>shape: (5, 7)</small><table border=\"1\" class=\"dataframe\"><thead><tr><th>Numero Ticket</th><th>Ubicacion</th><th>Service Desk</th><th>Estado</th><th>Fecha Creacion</th><th>Fecha Termino</th><th>Fecha Cierre</th></tr><tr><td>str</td><td>str</td><td>str</td><td>str</td><td>str</td><td>str</td><td>str</td></tr></thead><tbody><tr><td>&quot;WO0000004853311&quot;</td><td>&quot;TUPAC AMARU - 191038&quot;</td><td>&quot;Zona Centro&quot;</td><td>&quot;Cerrado&quot;</td><td>&quot;2023-01-02&quot;</td><td>&quot;10/01/2023&quot;</td><td>&quot;13/01/2023&quot;</td></tr><tr><td>&quot;WO0000004852942&quot;</td><td>&quot;SAN JUAN DE LURIGANCHO - 191017&quot;</td><td>&quot;Zona Centro&quot;</td><td>&quot;Cerrado&quot;</td><td>&quot;2023-01-02&quot;</td><td>&quot;2/01/2023&quot;</td><td>&quot;5/01/2023&quot;</td></tr><tr><td>&quot;WO0000004852621&quot;</td><td>&quot;MARIANO MELGAR - 215014&quot;</td><td>&quot;Zona Norte&quot;</td><td>&quot;Cerrado&quot;</td><td>&quot;2023-01-02&quot;</td><td>&quot;6/01/2023&quot;</td><td>&quot;9/01/2023&quot;</td></tr><tr><td>&quot;SA0000004853328&quot;</td><td>&quot;ANDAHUAYLAS - 205000&quot;</td><td>&quot;Zona Norte&quot;</td><td>&quot;Cerrado&quot;</td><td>&quot;2023-01-02&quot;</td><td>&quot;7/01/2023&quot;</td><td>&quot;10/01/2023&quot;</td></tr><tr><td>&quot;SA0000004853160&quot;</td><td>&quot;COLLIQUE - 191065&quot;</td><td>&quot;Zona Centro&quot;</td><td>&quot;Cerrado&quot;</td><td>&quot;2023-01-02&quot;</td><td>&quot;4/01/2023&quot;</td><td>&quot;7/01/2023&quot;</td></tr></tbody></table></div>"
      ],
      "text/plain": [
       "shape: (5, 7)\n",
       "┌──────────────┬──────────────┬──────────────┬─────────┬──────────────┬──────────────┬─────────────┐\n",
       "│ Numero       ┆ Ubicacion    ┆ Service Desk ┆ Estado  ┆ Fecha        ┆ Fecha        ┆ Fecha       │\n",
       "│ Ticket       ┆ ---          ┆ ---          ┆ ---     ┆ Creacion     ┆ Termino      ┆ Cierre      │\n",
       "│ ---          ┆ str          ┆ str          ┆ str     ┆ ---          ┆ ---          ┆ ---         │\n",
       "│ str          ┆              ┆              ┆         ┆ str          ┆ str          ┆ str         │\n",
       "╞══════════════╪══════════════╪══════════════╪═════════╪══════════════╪══════════════╪═════════════╡\n",
       "│ WO0000004853 ┆ TUPAC AMARU  ┆ Zona Centro  ┆ Cerrado ┆ 2023-01-02   ┆ 10/01/2023   ┆ 13/01/2023  │\n",
       "│ 311          ┆ - 191038     ┆              ┆         ┆              ┆              ┆             │\n",
       "│ WO0000004852 ┆ SAN JUAN DE  ┆ Zona Centro  ┆ Cerrado ┆ 2023-01-02   ┆ 2/01/2023    ┆ 5/01/2023   │\n",
       "│ 942          ┆ LURIGANCHO - ┆              ┆         ┆              ┆              ┆             │\n",
       "│              ┆ 191017       ┆              ┆         ┆              ┆              ┆             │\n",
       "│ WO0000004852 ┆ MARIANO      ┆ Zona Norte   ┆ Cerrado ┆ 2023-01-02   ┆ 6/01/2023    ┆ 9/01/2023   │\n",
       "│ 621          ┆ MELGAR -     ┆              ┆         ┆              ┆              ┆             │\n",
       "│              ┆ 215014       ┆              ┆         ┆              ┆              ┆             │\n",
       "│ SA0000004853 ┆ ANDAHUAYLAS  ┆ Zona Norte   ┆ Cerrado ┆ 2023-01-02   ┆ 7/01/2023    ┆ 10/01/2023  │\n",
       "│ 328          ┆ - 205000     ┆              ┆         ┆              ┆              ┆             │\n",
       "│ SA0000004853 ┆ COLLIQUE -   ┆ Zona Centro  ┆ Cerrado ┆ 2023-01-02   ┆ 4/01/2023    ┆ 7/01/2023   │\n",
       "│ 160          ┆ 191065       ┆              ┆         ┆              ┆              ┆             │\n",
       "└──────────────┴──────────────┴──────────────┴─────────┴──────────────┴──────────────┴─────────────┘"
      ]
     },
     "execution_count": 63,
     "metadata": {},
     "output_type": "execute_result"
    }
   ],
   "source": [
    "# IMPORTANDO TICKETS ACTUAL\n",
    "Actual = pl.read_csv(\n",
    "    source='./Tickets/Tickets Actual.csv',\n",
    "    separator='|',\n",
    "    columns=['Numero Ticket', 'Ubicacion', 'Service Desk', 'Estado', 'Fecha Creacion', 'Fecha Termino' , 'Fecha Cierre']\n",
    ")\n",
    "\n",
    "Actual.head()"
   ]
  },
  {
   "cell_type": "code",
   "execution_count": 64,
   "metadata": {},
   "outputs": [
    {
     "data": {
      "text/html": [
       "<div><style>\n",
       ".dataframe > thead > tr,\n",
       ".dataframe > tbody > tr {\n",
       "  text-align: right;\n",
       "  white-space: pre-wrap;\n",
       "}\n",
       "</style>\n",
       "<small>shape: (5, 7)</small><table border=\"1\" class=\"dataframe\"><thead><tr><th>Numero Ticket</th><th>Ubicacion</th><th>Service Desk</th><th>Estado</th><th>Fecha Creacion</th><th>Fecha Termino</th><th>Fecha Cierre</th></tr><tr><td>str</td><td>str</td><td>str</td><td>str</td><td>date</td><td>date</td><td>date</td></tr></thead><tbody><tr><td>&quot;WO0000004853311&quot;</td><td>&quot;TUPAC AMARU - 191038&quot;</td><td>&quot;Zona Centro&quot;</td><td>&quot;Cerrado&quot;</td><td>2023-01-02</td><td>2023-01-10</td><td>2023-01-13</td></tr><tr><td>&quot;WO0000004852942&quot;</td><td>&quot;SAN JUAN DE LURIGANCHO - 191017&quot;</td><td>&quot;Zona Centro&quot;</td><td>&quot;Cerrado&quot;</td><td>2023-01-02</td><td>2023-01-02</td><td>2023-01-05</td></tr><tr><td>&quot;WO0000004852621&quot;</td><td>&quot;MARIANO MELGAR - 215014&quot;</td><td>&quot;Zona Norte&quot;</td><td>&quot;Cerrado&quot;</td><td>2023-01-02</td><td>2023-01-06</td><td>2023-01-09</td></tr><tr><td>&quot;WO0000004853328&quot;</td><td>&quot;ANDAHUAYLAS - 205000&quot;</td><td>&quot;Zona Norte&quot;</td><td>&quot;Cerrado&quot;</td><td>2023-01-02</td><td>2023-01-07</td><td>2023-01-10</td></tr><tr><td>&quot;WO0000004853160&quot;</td><td>&quot;COLLIQUE - 191065&quot;</td><td>&quot;Zona Centro&quot;</td><td>&quot;Cerrado&quot;</td><td>2023-01-02</td><td>2023-01-04</td><td>2023-01-07</td></tr></tbody></table></div>"
      ],
      "text/plain": [
       "shape: (5, 7)\n",
       "┌──────────────┬──────────────┬──────────────┬─────────┬──────────────┬──────────────┬─────────────┐\n",
       "│ Numero       ┆ Ubicacion    ┆ Service Desk ┆ Estado  ┆ Fecha        ┆ Fecha        ┆ Fecha       │\n",
       "│ Ticket       ┆ ---          ┆ ---          ┆ ---     ┆ Creacion     ┆ Termino      ┆ Cierre      │\n",
       "│ ---          ┆ str          ┆ str          ┆ str     ┆ ---          ┆ ---          ┆ ---         │\n",
       "│ str          ┆              ┆              ┆         ┆ date         ┆ date         ┆ date        │\n",
       "╞══════════════╪══════════════╪══════════════╪═════════╪══════════════╪══════════════╪═════════════╡\n",
       "│ WO0000004853 ┆ TUPAC AMARU  ┆ Zona Centro  ┆ Cerrado ┆ 2023-01-02   ┆ 2023-01-10   ┆ 2023-01-13  │\n",
       "│ 311          ┆ - 191038     ┆              ┆         ┆              ┆              ┆             │\n",
       "│ WO0000004852 ┆ SAN JUAN DE  ┆ Zona Centro  ┆ Cerrado ┆ 2023-01-02   ┆ 2023-01-02   ┆ 2023-01-05  │\n",
       "│ 942          ┆ LURIGANCHO - ┆              ┆         ┆              ┆              ┆             │\n",
       "│              ┆ 191017       ┆              ┆         ┆              ┆              ┆             │\n",
       "│ WO0000004852 ┆ MARIANO      ┆ Zona Norte   ┆ Cerrado ┆ 2023-01-02   ┆ 2023-01-06   ┆ 2023-01-09  │\n",
       "│ 621          ┆ MELGAR -     ┆              ┆         ┆              ┆              ┆             │\n",
       "│              ┆ 215014       ┆              ┆         ┆              ┆              ┆             │\n",
       "│ WO0000004853 ┆ ANDAHUAYLAS  ┆ Zona Norte   ┆ Cerrado ┆ 2023-01-02   ┆ 2023-01-07   ┆ 2023-01-10  │\n",
       "│ 328          ┆ - 205000     ┆              ┆         ┆              ┆              ┆             │\n",
       "│ WO0000004853 ┆ COLLIQUE -   ┆ Zona Centro  ┆ Cerrado ┆ 2023-01-02   ┆ 2023-01-04   ┆ 2023-01-07  │\n",
       "│ 160          ┆ 191065       ┆              ┆         ┆              ┆              ┆             │\n",
       "└──────────────┴──────────────┴──────────────┴─────────┴──────────────┴──────────────┴─────────────┘"
      ]
     },
     "execution_count": 64,
     "metadata": {},
     "output_type": "execute_result"
    }
   ],
   "source": [
    "# TRANSFORMANDO Filtro y transformo los registros en la misma sentencia con formato fecha y sin los que inician por WO\n",
    "Actual = Actual.filter(\n",
    "    pl.col('Numero Ticket').str.starts_with('WO')\n",
    ").select(\n",
    "    'Numero Ticket',\n",
    "    'Ubicacion',\n",
    "    'Service Desk',\n",
    "    'Estado',\n",
    "    pl.col('Fecha Creacion').cast(pl.Date),\n",
    "    pl.col('Fecha Termino').str.to_date(format='%d/%m/%Y'),\n",
    "    pl.col('Fecha Cierre').str.to_date(format='%d/%m/%Y')\n",
    ")\n",
    "\n",
    "Actual.head()"
   ]
  },
  {
   "cell_type": "code",
   "execution_count": 65,
   "metadata": {},
   "outputs": [
    {
     "data": {
      "text/html": [
       "<div><style>\n",
       ".dataframe > thead > tr,\n",
       ".dataframe > tbody > tr {\n",
       "  text-align: right;\n",
       "  white-space: pre-wrap;\n",
       "}\n",
       "</style>\n",
       "<small>shape: (0, 7)</small><table border=\"1\" class=\"dataframe\"><thead><tr><th>Numero Ticket</th><th>Ubicacion</th><th>Service Desk</th><th>Estado</th><th>Fecha Creacion</th><th>Fecha Termino</th><th>Fecha Cierre</th></tr><tr><td>str</td><td>str</td><td>str</td><td>str</td><td>date</td><td>date</td><td>date</td></tr></thead><tbody></tbody></table></div>"
      ],
      "text/plain": [
       "shape: (0, 7)\n",
       "┌───────────────┬───────────┬──────────────┬────────┬──────────┬───────────────┬──────────────┐\n",
       "│ Numero Ticket ┆ Ubicacion ┆ Service Desk ┆ Estado ┆ Fecha    ┆ Fecha Termino ┆ Fecha Cierre │\n",
       "│ ---           ┆ ---       ┆ ---          ┆ ---    ┆ Creacion ┆ ---           ┆ ---          │\n",
       "│ str           ┆ str       ┆ str          ┆ str    ┆ ---      ┆ date          ┆ date         │\n",
       "│               ┆           ┆              ┆        ┆ date     ┆               ┆              │\n",
       "╞═══════════════╪═══════════╪══════════════╪════════╪══════════╪═══════════════╪══════════════╡\n",
       "└───────────────┴───────────┴──────────────┴────────┴──────────┴───────────────┴──────────────┘"
      ]
     },
     "execution_count": 65,
     "metadata": {},
     "output_type": "execute_result"
    }
   ],
   "source": [
    "# VERIFICANDO QUE EL FILTRO ESTE BIEN APLICADO (QUE NO INICIE CON WO)\n",
    "\n",
    "Verificacion =Actual.filter(\n",
    "   ~ pl.col('Numero Ticket').str.starts_with('WO') \n",
    ")\n",
    "\n",
    "Verificacion.head()\n"
   ]
  },
  {
   "cell_type": "code",
   "execution_count": 66,
   "metadata": {},
   "outputs": [
    {
     "data": {
      "text/html": [
       "<div><style>\n",
       ".dataframe > thead > tr,\n",
       ".dataframe > tbody > tr {\n",
       "  text-align: right;\n",
       "  white-space: pre-wrap;\n",
       "}\n",
       "</style>\n",
       "<small>shape: (5, 7)</small><table border=\"1\" class=\"dataframe\"><thead><tr><th>TicketID</th><th>Ubicacion</th><th>Service Desk</th><th>Estado</th><th>Fecha Creacion</th><th>Fecha Termino</th><th>Fecha Cierre</th></tr><tr><td>str</td><td>str</td><td>str</td><td>str</td><td>date</td><td>date</td><td>date</td></tr></thead><tbody><tr><td>&quot;WO0000004122687&quot;</td><td>&quot;AREQUIPA - 215000&quot;</td><td>&quot;Zona Norte&quot;</td><td>&quot;Cerrado&quot;</td><td>2022-06-01</td><td>2022-06-14</td><td>2022-06-14</td></tr><tr><td>&quot;WO0000004122649&quot;</td><td>&quot;METRO AV. WIESSE - 191106&quot;</td><td>&quot;Zona Centro&quot;</td><td>&quot;Cerrado&quot;</td><td>2022-06-01</td><td>2022-06-17</td><td>2022-06-17</td></tr><tr><td>&quot;WO0000004122502&quot;</td><td>&quot;NICOLAS AYLLON - 191027&quot;</td><td>&quot;Zona Centro&quot;</td><td>&quot;Cerrado&quot;</td><td>2022-06-01</td><td>2022-06-08</td><td>2022-06-08</td></tr><tr><td>&quot;WO0000004122513&quot;</td><td>&quot;JAUREGUI - 405005&quot;</td><td>&quot;Zona Norte&quot;</td><td>&quot;Cerrado&quot;</td><td>2022-06-01</td><td>2022-06-18</td><td>2022-06-18</td></tr><tr><td>&quot;WO0000004122741&quot;</td><td>&quot;CANTO GRANDE - 191096&quot;</td><td>&quot;Zona Centro&quot;</td><td>&quot;Cerrado&quot;</td><td>2022-06-01</td><td>2022-06-08</td><td>2022-06-08</td></tr></tbody></table></div>"
      ],
      "text/plain": [
       "shape: (5, 7)\n",
       "┌──────────────┬──────────────┬──────────────┬─────────┬──────────────┬──────────────┬─────────────┐\n",
       "│ TicketID     ┆ Ubicacion    ┆ Service Desk ┆ Estado  ┆ Fecha        ┆ Fecha        ┆ Fecha       │\n",
       "│ ---          ┆ ---          ┆ ---          ┆ ---     ┆ Creacion     ┆ Termino      ┆ Cierre      │\n",
       "│ str          ┆ str          ┆ str          ┆ str     ┆ ---          ┆ ---          ┆ ---         │\n",
       "│              ┆              ┆              ┆         ┆ date         ┆ date         ┆ date        │\n",
       "╞══════════════╪══════════════╪══════════════╪═════════╪══════════════╪══════════════╪═════════════╡\n",
       "│ WO0000004122 ┆ AREQUIPA -   ┆ Zona Norte   ┆ Cerrado ┆ 2022-06-01   ┆ 2022-06-14   ┆ 2022-06-14  │\n",
       "│ 687          ┆ 215000       ┆              ┆         ┆              ┆              ┆             │\n",
       "│ WO0000004122 ┆ METRO AV.    ┆ Zona Centro  ┆ Cerrado ┆ 2022-06-01   ┆ 2022-06-17   ┆ 2022-06-17  │\n",
       "│ 649          ┆ WIESSE -     ┆              ┆         ┆              ┆              ┆             │\n",
       "│              ┆ 191106       ┆              ┆         ┆              ┆              ┆             │\n",
       "│ WO0000004122 ┆ NICOLAS      ┆ Zona Centro  ┆ Cerrado ┆ 2022-06-01   ┆ 2022-06-08   ┆ 2022-06-08  │\n",
       "│ 502          ┆ AYLLON -     ┆              ┆         ┆              ┆              ┆             │\n",
       "│              ┆ 191027       ┆              ┆         ┆              ┆              ┆             │\n",
       "│ WO0000004122 ┆ JAUREGUI -   ┆ Zona Norte   ┆ Cerrado ┆ 2022-06-01   ┆ 2022-06-18   ┆ 2022-06-18  │\n",
       "│ 513          ┆ 405005       ┆              ┆         ┆              ┆              ┆             │\n",
       "│ WO0000004122 ┆ CANTO GRANDE ┆ Zona Centro  ┆ Cerrado ┆ 2022-06-01   ┆ 2022-06-08   ┆ 2022-06-08  │\n",
       "│ 741          ┆ - 191096     ┆              ┆         ┆              ┆              ┆             │\n",
       "└──────────────┴──────────────┴──────────────┴─────────┴──────────────┴──────────────┴─────────────┘"
      ]
     },
     "execution_count": 66,
     "metadata": {},
     "output_type": "execute_result"
    }
   ],
   "source": [
    "# Uniendo las bases de datos y renombrando TicketID\n",
    "\n",
    "Tickets = pl.concat([historico, Actual]).rename(\n",
    "   {'Numero Ticket':'TicketID'} \n",
    ")\n",
    "\n",
    "Tickets.head()"
   ]
  },
  {
   "cell_type": "code",
   "execution_count": 68,
   "metadata": {},
   "outputs": [
    {
     "data": {
      "text/plain": [
       "(22228, 7)"
      ]
     },
     "execution_count": 68,
     "metadata": {},
     "output_type": "execute_result"
    }
   ],
   "source": [
    "# verifico con shape cuantos registros hay en la tabla\n",
    "Tickets.shape"
   ]
  },
  {
   "cell_type": "code",
   "execution_count": 67,
   "metadata": {},
   "outputs": [
    {
     "data": {
      "text/plain": [
       "(22215, 7)"
      ]
     },
     "execution_count": 67,
     "metadata": {},
     "output_type": "execute_result"
    }
   ],
   "source": [
    "# verifico con unique y shape cuantos registros unicos hay en la tabla\n",
    "Tickets.unique(subset='TicketID').shape"
   ]
  },
  {
   "cell_type": "code",
   "execution_count": 69,
   "metadata": {},
   "outputs": [],
   "source": [
    "# elimino los 13  Duplicados dejando los ticket con fecha mas actual\n",
    "\n",
    "Tickets = Tickets.sort(\n",
    "    by=['TicketID', 'Fecha Creacion']\n",
    ").unique(\n",
    "    subset='TicketID',\n",
    "    keep='last',\n",
    "    maintain_order=True\n",
    ")\n",
    "\n"
   ]
  },
  {
   "cell_type": "code",
   "execution_count": 70,
   "metadata": {},
   "outputs": [
    {
     "data": {
      "text/plain": [
       "(22215, 7)"
      ]
     },
     "execution_count": 70,
     "metadata": {},
     "output_type": "execute_result"
    }
   ],
   "source": [
    "# verifico que no queden duplicados (deben quedar los 22215 registros unicos)\n",
    "\n",
    "Tickets.shape"
   ]
  },
  {
   "cell_type": "code",
   "execution_count": 71,
   "metadata": {},
   "outputs": [
    {
     "data": {
      "text/html": [
       "<div><style>\n",
       ".dataframe > thead > tr,\n",
       ".dataframe > tbody > tr {\n",
       "  text-align: right;\n",
       "  white-space: pre-wrap;\n",
       "}\n",
       "</style>\n",
       "<small>shape: (5, 9)</small><table border=\"1\" class=\"dataframe\"><thead><tr><th>TicketID</th><th>Ubicacion</th><th>Service Desk</th><th>Estado</th><th>Fecha Creacion</th><th>Fecha Termino</th><th>Fecha Cierre</th><th>Agencia</th><th>AgenciaID</th></tr><tr><td>str</td><td>str</td><td>str</td><td>str</td><td>date</td><td>date</td><td>date</td><td>str</td><td>str</td></tr></thead><tbody><tr><td>&quot;OT0000004849379&quot;</td><td>&quot;NAYLAMP - 191143&quot;</td><td>&quot;Zona Centro&quot;</td><td>&quot;Cerrado&quot;</td><td>2022-12-31</td><td>2023-01-25</td><td>2023-01-28</td><td>&quot;NAYLAMP&quot;</td><td>&quot;191143&quot;</td></tr><tr><td>&quot;OT0000004849382&quot;</td><td>&quot;LOS DAMASCOS - 193038&quot;</td><td>&quot;Zona Sur&quot;</td><td>&quot;Cerrado&quot;</td><td>2022-12-31</td><td>2023-01-04</td><td>2023-01-07</td><td>&quot;LOS DAMASCOS&quot;</td><td>&quot;193038&quot;</td></tr><tr><td>&quot;OT0000004849726&quot;</td><td>&quot;LUREN - 380004&quot;</td><td>&quot;Zona Sur&quot;</td><td>&quot;Cerrado&quot;</td><td>2022-12-31</td><td>2023-01-02</td><td>2023-01-05</td><td>&quot;LUREN&quot;</td><td>&quot;380004&quot;</td></tr><tr><td>&quot;OT0000004849732&quot;</td><td>&quot;EL PINO - 191087&quot;</td><td>&quot;Zona Centro&quot;</td><td>&quot;Cerrado&quot;</td><td>2022-12-31</td><td>2023-01-06</td><td>2023-01-09</td><td>&quot;EL PINO&quot;</td><td>&quot;191087&quot;</td></tr><tr><td>&quot;SA0000004849307&quot;</td><td>&quot;TUSILAGOS - 191108&quot;</td><td>&quot;Zona Centro&quot;</td><td>&quot;Rechazado&quot;</td><td>2022-12-31</td><td>null</td><td>null</td><td>&quot;TUSILAGOS&quot;</td><td>&quot;191108&quot;</td></tr></tbody></table></div>"
      ],
      "text/plain": [
       "shape: (5, 9)\n",
       "┌───────────┬───────────┬───────────┬───────────┬───┬───────────┬───────────┬───────────┬──────────┐\n",
       "│ TicketID  ┆ Ubicacion ┆ Service   ┆ Estado    ┆ … ┆ Fecha     ┆ Fecha     ┆ Agencia   ┆ AgenciaI │\n",
       "│ ---       ┆ ---       ┆ Desk      ┆ ---       ┆   ┆ Termino   ┆ Cierre    ┆ ---       ┆ D        │\n",
       "│ str       ┆ str       ┆ ---       ┆ str       ┆   ┆ ---       ┆ ---       ┆ str       ┆ ---      │\n",
       "│           ┆           ┆ str       ┆           ┆   ┆ date      ┆ date      ┆           ┆ str      │\n",
       "╞═══════════╪═══════════╪═══════════╪═══════════╪═══╪═══════════╪═══════════╪═══════════╪══════════╡\n",
       "│ OT0000004 ┆ NAYLAMP - ┆ Zona      ┆ Cerrado   ┆ … ┆ 2023-01-2 ┆ 2023-01-2 ┆ NAYLAMP   ┆ 191143   │\n",
       "│ 849379    ┆ 191143    ┆ Centro    ┆           ┆   ┆ 5         ┆ 8         ┆           ┆          │\n",
       "│ OT0000004 ┆ LOS       ┆ Zona Sur  ┆ Cerrado   ┆ … ┆ 2023-01-0 ┆ 2023-01-0 ┆ LOS       ┆ 193038   │\n",
       "│ 849382    ┆ DAMASCOS  ┆           ┆           ┆   ┆ 4         ┆ 7         ┆ DAMASCOS  ┆          │\n",
       "│           ┆ - 193038  ┆           ┆           ┆   ┆           ┆           ┆           ┆          │\n",
       "│ OT0000004 ┆ LUREN -   ┆ Zona Sur  ┆ Cerrado   ┆ … ┆ 2023-01-0 ┆ 2023-01-0 ┆ LUREN     ┆ 380004   │\n",
       "│ 849726    ┆ 380004    ┆           ┆           ┆   ┆ 2         ┆ 5         ┆           ┆          │\n",
       "│ OT0000004 ┆ EL PINO - ┆ Zona      ┆ Cerrado   ┆ … ┆ 2023-01-0 ┆ 2023-01-0 ┆ EL PINO   ┆ 191087   │\n",
       "│ 849732    ┆ 191087    ┆ Centro    ┆           ┆   ┆ 6         ┆ 9         ┆           ┆          │\n",
       "│ SA0000004 ┆ TUSILAGOS ┆ Zona      ┆ Rechazado ┆ … ┆ null      ┆ null      ┆ TUSILAGOS ┆ 191108   │\n",
       "│ 849307    ┆ - 191108  ┆ Centro    ┆           ┆   ┆           ┆           ┆           ┆          │\n",
       "└───────────┴───────────┴───────────┴───────────┴───┴───────────┴───────────┴───────────┴──────────┘"
      ]
     },
     "execution_count": 71,
     "metadata": {},
     "output_type": "execute_result"
    }
   ],
   "source": [
    "# creando una nueva columna para dividir la ubicacion  en Agencia y AgenciaID\n",
    "\n",
    "Tickets = Tickets.with_columns(\n",
    "    pl.col('Ubicacion')\n",
    "    .str.split_exact(' - ', 1)\n",
    "    .struct.rename_fields(['Agencia', 'AgenciaID'])\n",
    "    .alias('Agencia')\n",
    ").unnest('Agencia')\n",
    "\n",
    "Tickets.head()"
   ]
  },
  {
   "cell_type": "code",
   "execution_count": 73,
   "metadata": {},
   "outputs": [],
   "source": [
    "# cambiando tipo de dato a Agencia ID\n",
    "Tickets = Tickets.cast({'AgenciaID': pl.Int64})\n"
   ]
  },
  {
   "cell_type": "code",
   "execution_count": null,
   "metadata": {},
   "outputs": [],
   "source": [
    "# agregando fecha real fin basado en la regla: SI [Fecha Termino] es nulo ENTONCES [Fecha Cierre] SINO [Fecha Termino]\n",
    "\n",
    "Tickets = Tickets.with_columns(\n",
    "    pl.when(pl.col('Fecha Termino').is_null())\n",
    "    .then(pl.col('Fecha Cierre'))\n",
    "    .otherwise(pl.col('Fecha Termino'))\n",
    "    .alias('Fecha Real Fin')\n",
    ")"
   ]
  },
  {
   "cell_type": "code",
   "execution_count": 75,
   "metadata": {},
   "outputs": [],
   "source": [
    "#creando dias Cierre • Cree la columna [Dias Cierre], la cual es la diferencia en días entre la [Fecha Real Fin] y [Fecha Creacion]\n",
    "\n",
    "Tickets = Tickets.with_columns(\n",
    "    (pl.col('Fecha Real Fin') - pl.col('Fecha Creacion'))\n",
    "    .dt.total_days()\n",
    "    .alias('Dias Cierre')\n",
    ")"
   ]
  },
  {
   "cell_type": "code",
   "execution_count": 76,
   "metadata": {},
   "outputs": [],
   "source": [
    "# creacion columna [Grupo Dias] basado en la siguiente regla: SI [Dias Cierre] es nulo ENTONCES Nulo ; SI [Dias Cierre] <= 3 ENTONCES “0 a 3 días”; SI [Dias Cierre] <= 7 ENTONCES “4 a 7 días”; SI [Dias Cierre] <= 15 ENTONCES “8 a 15 días”; SI [Dias Cierre] > 15 ENTONCES “+15 días”\n",
    "\n",
    "Tickets = Tickets.with_columns(\n",
    "                                pl.when(pl.col('Dias Cierre').is_null()).then(None)\n",
    "                                .when(pl.col('Dias Cierre') < 3).then(pl.lit('0 a 3 días'))\n",
    "                                .when(pl.col('Dias Cierre') < 7).then(pl.lit('3 a 7 días'))\n",
    "                                .when(pl.col('Dias Cierre') < 15).then(pl.lit('7 a 15 días'))\n",
    "                                .otherwise(pl.lit('+ de 15 días'))\n",
    "                                .alias('Grupo Dias')\n",
    "                            )"
   ]
  },
  {
   "cell_type": "code",
   "execution_count": 78,
   "metadata": {},
   "outputs": [
    {
     "data": {
      "text/html": [
       "<div><style>\n",
       ".dataframe > thead > tr,\n",
       ".dataframe > tbody > tr {\n",
       "  text-align: right;\n",
       "  white-space: pre-wrap;\n",
       "}\n",
       "</style>\n",
       "<small>shape: (10, 9)</small><table border=\"1\" class=\"dataframe\"><thead><tr><th>TicketID</th><th>Service Desk</th><th>Estado</th><th>Fecha Creacion</th><th>Fecha Real Fin</th><th>Agencia</th><th>AgenciaID</th><th>Dias Cierre</th><th>Grupo Dias</th></tr><tr><td>str</td><td>str</td><td>str</td><td>date</td><td>date</td><td>str</td><td>i64</td><td>i64</td><td>str</td></tr></thead><tbody><tr><td>&quot;OT0000004849379&quot;</td><td>&quot;Zona Centro&quot;</td><td>&quot;Cerrado&quot;</td><td>2022-12-31</td><td>2023-01-25</td><td>&quot;NAYLAMP&quot;</td><td>191143</td><td>25</td><td>&quot;+ de 15 días&quot;</td></tr><tr><td>&quot;OT0000004849382&quot;</td><td>&quot;Zona Sur&quot;</td><td>&quot;Cerrado&quot;</td><td>2022-12-31</td><td>2023-01-04</td><td>&quot;LOS DAMASCOS&quot;</td><td>193038</td><td>4</td><td>&quot;3 a 7 días&quot;</td></tr><tr><td>&quot;OT0000004849726&quot;</td><td>&quot;Zona Sur&quot;</td><td>&quot;Cerrado&quot;</td><td>2022-12-31</td><td>2023-01-02</td><td>&quot;LUREN&quot;</td><td>380004</td><td>2</td><td>&quot;0 a 3 días&quot;</td></tr><tr><td>&quot;OT0000004849732&quot;</td><td>&quot;Zona Centro&quot;</td><td>&quot;Cerrado&quot;</td><td>2022-12-31</td><td>2023-01-06</td><td>&quot;EL PINO&quot;</td><td>191087</td><td>6</td><td>&quot;3 a 7 días&quot;</td></tr><tr><td>&quot;SA0000004849307&quot;</td><td>&quot;Zona Centro&quot;</td><td>&quot;Rechazado&quot;</td><td>2022-12-31</td><td>null</td><td>&quot;TUSILAGOS&quot;</td><td>191108</td><td>null</td><td>null</td></tr><tr><td>&quot;WO0000004122302&quot;</td><td>&quot;Zona Norte&quot;</td><td>&quot;Cerrado&quot;</td><td>2022-06-01</td><td>2022-06-10</td><td>&quot;IMPERIAL&quot;</td><td>255001</td><td>9</td><td>&quot;7 a 15 días&quot;</td></tr><tr><td>&quot;WO0000004122303&quot;</td><td>&quot;Zona Norte&quot;</td><td>&quot;Cerrado&quot;</td><td>2022-06-01</td><td>2022-06-17</td><td>&quot;IMPERIAL&quot;</td><td>255001</td><td>16</td><td>&quot;+ de 15 días&quot;</td></tr><tr><td>&quot;WO0000004122353&quot;</td><td>&quot;Zona Centro&quot;</td><td>&quot;Cerrado&quot;</td><td>2022-06-01</td><td>2022-06-05</td><td>&quot;PLAZA UNION&quot;</td><td>191062</td><td>4</td><td>&quot;3 a 7 días&quot;</td></tr><tr><td>&quot;WO0000004122360&quot;</td><td>&quot;Zona Norte&quot;</td><td>&quot;Cerrado&quot;</td><td>2022-06-01</td><td>2022-06-13</td><td>&quot;AREQUIPA&quot;</td><td>215000</td><td>12</td><td>&quot;7 a 15 días&quot;</td></tr><tr><td>&quot;WO0000004122387&quot;</td><td>&quot;Zona Centro&quot;</td><td>&quot;Rechazado&quot;</td><td>2022-06-01</td><td>2022-06-06</td><td>&quot;PLAZA LIMA NORTE&quot;</td><td>191058</td><td>5</td><td>&quot;3 a 7 días&quot;</td></tr></tbody></table></div>"
      ],
      "text/plain": [
       "shape: (10, 9)\n",
       "┌───────────┬───────────┬───────────┬───────────┬───┬───────────┬───────────┬───────────┬──────────┐\n",
       "│ TicketID  ┆ Service   ┆ Estado    ┆ Fecha     ┆ … ┆ Agencia   ┆ AgenciaID ┆ Dias      ┆ Grupo    │\n",
       "│ ---       ┆ Desk      ┆ ---       ┆ Creacion  ┆   ┆ ---       ┆ ---       ┆ Cierre    ┆ Dias     │\n",
       "│ str       ┆ ---       ┆ str       ┆ ---       ┆   ┆ str       ┆ i64       ┆ ---       ┆ ---      │\n",
       "│           ┆ str       ┆           ┆ date      ┆   ┆           ┆           ┆ i64       ┆ str      │\n",
       "╞═══════════╪═══════════╪═══════════╪═══════════╪═══╪═══════════╪═══════════╪═══════════╪══════════╡\n",
       "│ OT0000004 ┆ Zona      ┆ Cerrado   ┆ 2022-12-3 ┆ … ┆ NAYLAMP   ┆ 191143    ┆ 25        ┆ + de 15  │\n",
       "│ 849379    ┆ Centro    ┆           ┆ 1         ┆   ┆           ┆           ┆           ┆ días     │\n",
       "│ OT0000004 ┆ Zona Sur  ┆ Cerrado   ┆ 2022-12-3 ┆ … ┆ LOS       ┆ 193038    ┆ 4         ┆ 3 a 7    │\n",
       "│ 849382    ┆           ┆           ┆ 1         ┆   ┆ DAMASCOS  ┆           ┆           ┆ días     │\n",
       "│ OT0000004 ┆ Zona Sur  ┆ Cerrado   ┆ 2022-12-3 ┆ … ┆ LUREN     ┆ 380004    ┆ 2         ┆ 0 a 3    │\n",
       "│ 849726    ┆           ┆           ┆ 1         ┆   ┆           ┆           ┆           ┆ días     │\n",
       "│ OT0000004 ┆ Zona      ┆ Cerrado   ┆ 2022-12-3 ┆ … ┆ EL PINO   ┆ 191087    ┆ 6         ┆ 3 a 7    │\n",
       "│ 849732    ┆ Centro    ┆           ┆ 1         ┆   ┆           ┆           ┆           ┆ días     │\n",
       "│ SA0000004 ┆ Zona      ┆ Rechazado ┆ 2022-12-3 ┆ … ┆ TUSILAGOS ┆ 191108    ┆ null      ┆ null     │\n",
       "│ 849307    ┆ Centro    ┆           ┆ 1         ┆   ┆           ┆           ┆           ┆          │\n",
       "│ WO0000004 ┆ Zona      ┆ Cerrado   ┆ 2022-06-0 ┆ … ┆ IMPERIAL  ┆ 255001    ┆ 9         ┆ 7 a 15   │\n",
       "│ 122302    ┆ Norte     ┆           ┆ 1         ┆   ┆           ┆           ┆           ┆ días     │\n",
       "│ WO0000004 ┆ Zona      ┆ Cerrado   ┆ 2022-06-0 ┆ … ┆ IMPERIAL  ┆ 255001    ┆ 16        ┆ + de 15  │\n",
       "│ 122303    ┆ Norte     ┆           ┆ 1         ┆   ┆           ┆           ┆           ┆ días     │\n",
       "│ WO0000004 ┆ Zona      ┆ Cerrado   ┆ 2022-06-0 ┆ … ┆ PLAZA     ┆ 191062    ┆ 4         ┆ 3 a 7    │\n",
       "│ 122353    ┆ Centro    ┆           ┆ 1         ┆   ┆ UNION     ┆           ┆           ┆ días     │\n",
       "│ WO0000004 ┆ Zona      ┆ Cerrado   ┆ 2022-06-0 ┆ … ┆ AREQUIPA  ┆ 215000    ┆ 12        ┆ 7 a 15   │\n",
       "│ 122360    ┆ Norte     ┆           ┆ 1         ┆   ┆           ┆           ┆           ┆ días     │\n",
       "│ WO0000004 ┆ Zona      ┆ Rechazado ┆ 2022-06-0 ┆ … ┆ PLAZA     ┆ 191058    ┆ 5         ┆ 3 a 7    │\n",
       "│ 122387    ┆ Centro    ┆           ┆ 1         ┆   ┆ LIMA      ┆           ┆           ┆ días     │\n",
       "│           ┆           ┆           ┆           ┆   ┆ NORTE     ┆           ┆           ┆          │\n",
       "└───────────┴───────────┴───────────┴───────────┴───┴───────────┴───────────┴───────────┴──────────┘"
      ]
     },
     "execution_count": 78,
     "metadata": {},
     "output_type": "execute_result"
    }
   ],
   "source": [
    "# organizando el entregable\n",
    "\n",
    "Tickets = Tickets.select(\n",
    "    'TicketID',\n",
    "    'Service Desk',\n",
    "    'Estado',\n",
    "    'Fecha Creacion',\n",
    "    'Fecha Real Fin',\n",
    "    'Agencia',\n",
    "    'AgenciaID',\n",
    "    'Dias Cierre',\n",
    "    'Grupo Dias'\n",
    ")\n",
    "\n"
   ]
  },
  {
   "cell_type": "markdown",
   "metadata": {},
   "source": [
    "##### RESULTADO ESPERADO TABLA TICKETS"
   ]
  },
  {
   "cell_type": "code",
   "execution_count": 131,
   "metadata": {},
   "outputs": [
    {
     "data": {
      "text/html": [
       "<div><style>\n",
       ".dataframe > thead > tr,\n",
       ".dataframe > tbody > tr {\n",
       "  text-align: right;\n",
       "  white-space: pre-wrap;\n",
       "}\n",
       "</style>\n",
       "<small>shape: (10, 9)</small><table border=\"1\" class=\"dataframe\"><thead><tr><th>TicketID</th><th>Service Desk</th><th>Estado</th><th>Fecha Creacion</th><th>Fecha Real Fin</th><th>Agencia</th><th>AgenciaID</th><th>Dias Cierre</th><th>Grupo Dias</th></tr><tr><td>str</td><td>str</td><td>str</td><td>date</td><td>date</td><td>str</td><td>i64</td><td>i64</td><td>str</td></tr></thead><tbody><tr><td>&quot;OT0000004849379&quot;</td><td>&quot;Zona Centro&quot;</td><td>&quot;Cerrado&quot;</td><td>2022-12-31</td><td>2023-01-25</td><td>&quot;NAYLAMP&quot;</td><td>191143</td><td>25</td><td>&quot;+ de 15 días&quot;</td></tr><tr><td>&quot;OT0000004849382&quot;</td><td>&quot;Zona Sur&quot;</td><td>&quot;Cerrado&quot;</td><td>2022-12-31</td><td>2023-01-04</td><td>&quot;LOS DAMASCOS&quot;</td><td>193038</td><td>4</td><td>&quot;3 a 7 días&quot;</td></tr><tr><td>&quot;OT0000004849726&quot;</td><td>&quot;Zona Sur&quot;</td><td>&quot;Cerrado&quot;</td><td>2022-12-31</td><td>2023-01-02</td><td>&quot;LUREN&quot;</td><td>380004</td><td>2</td><td>&quot;0 a 3 días&quot;</td></tr><tr><td>&quot;OT0000004849732&quot;</td><td>&quot;Zona Centro&quot;</td><td>&quot;Cerrado&quot;</td><td>2022-12-31</td><td>2023-01-06</td><td>&quot;EL PINO&quot;</td><td>191087</td><td>6</td><td>&quot;3 a 7 días&quot;</td></tr><tr><td>&quot;SA0000004849307&quot;</td><td>&quot;Zona Centro&quot;</td><td>&quot;Rechazado&quot;</td><td>2022-12-31</td><td>null</td><td>&quot;TUSILAGOS&quot;</td><td>191108</td><td>null</td><td>null</td></tr><tr><td>&quot;WO0000004122302&quot;</td><td>&quot;Zona Norte&quot;</td><td>&quot;Cerrado&quot;</td><td>2022-06-01</td><td>2022-06-10</td><td>&quot;IMPERIAL&quot;</td><td>255001</td><td>9</td><td>&quot;7 a 15 días&quot;</td></tr><tr><td>&quot;WO0000004122303&quot;</td><td>&quot;Zona Norte&quot;</td><td>&quot;Cerrado&quot;</td><td>2022-06-01</td><td>2022-06-17</td><td>&quot;IMPERIAL&quot;</td><td>255001</td><td>16</td><td>&quot;+ de 15 días&quot;</td></tr><tr><td>&quot;WO0000004122353&quot;</td><td>&quot;Zona Centro&quot;</td><td>&quot;Cerrado&quot;</td><td>2022-06-01</td><td>2022-06-05</td><td>&quot;PLAZA UNION&quot;</td><td>191062</td><td>4</td><td>&quot;3 a 7 días&quot;</td></tr><tr><td>&quot;WO0000004122360&quot;</td><td>&quot;Zona Norte&quot;</td><td>&quot;Cerrado&quot;</td><td>2022-06-01</td><td>2022-06-13</td><td>&quot;AREQUIPA&quot;</td><td>215000</td><td>12</td><td>&quot;7 a 15 días&quot;</td></tr><tr><td>&quot;WO0000004122387&quot;</td><td>&quot;Zona Centro&quot;</td><td>&quot;Rechazado&quot;</td><td>2022-06-01</td><td>2022-06-06</td><td>&quot;PLAZA LIMA NORTE&quot;</td><td>191058</td><td>5</td><td>&quot;3 a 7 días&quot;</td></tr></tbody></table></div>"
      ],
      "text/plain": [
       "shape: (10, 9)\n",
       "┌───────────┬───────────┬───────────┬───────────┬───┬───────────┬───────────┬───────────┬──────────┐\n",
       "│ TicketID  ┆ Service   ┆ Estado    ┆ Fecha     ┆ … ┆ Agencia   ┆ AgenciaID ┆ Dias      ┆ Grupo    │\n",
       "│ ---       ┆ Desk      ┆ ---       ┆ Creacion  ┆   ┆ ---       ┆ ---       ┆ Cierre    ┆ Dias     │\n",
       "│ str       ┆ ---       ┆ str       ┆ ---       ┆   ┆ str       ┆ i64       ┆ ---       ┆ ---      │\n",
       "│           ┆ str       ┆           ┆ date      ┆   ┆           ┆           ┆ i64       ┆ str      │\n",
       "╞═══════════╪═══════════╪═══════════╪═══════════╪═══╪═══════════╪═══════════╪═══════════╪══════════╡\n",
       "│ OT0000004 ┆ Zona      ┆ Cerrado   ┆ 2022-12-3 ┆ … ┆ NAYLAMP   ┆ 191143    ┆ 25        ┆ + de 15  │\n",
       "│ 849379    ┆ Centro    ┆           ┆ 1         ┆   ┆           ┆           ┆           ┆ días     │\n",
       "│ OT0000004 ┆ Zona Sur  ┆ Cerrado   ┆ 2022-12-3 ┆ … ┆ LOS       ┆ 193038    ┆ 4         ┆ 3 a 7    │\n",
       "│ 849382    ┆           ┆           ┆ 1         ┆   ┆ DAMASCOS  ┆           ┆           ┆ días     │\n",
       "│ OT0000004 ┆ Zona Sur  ┆ Cerrado   ┆ 2022-12-3 ┆ … ┆ LUREN     ┆ 380004    ┆ 2         ┆ 0 a 3    │\n",
       "│ 849726    ┆           ┆           ┆ 1         ┆   ┆           ┆           ┆           ┆ días     │\n",
       "│ OT0000004 ┆ Zona      ┆ Cerrado   ┆ 2022-12-3 ┆ … ┆ EL PINO   ┆ 191087    ┆ 6         ┆ 3 a 7    │\n",
       "│ 849732    ┆ Centro    ┆           ┆ 1         ┆   ┆           ┆           ┆           ┆ días     │\n",
       "│ SA0000004 ┆ Zona      ┆ Rechazado ┆ 2022-12-3 ┆ … ┆ TUSILAGOS ┆ 191108    ┆ null      ┆ null     │\n",
       "│ 849307    ┆ Centro    ┆           ┆ 1         ┆   ┆           ┆           ┆           ┆          │\n",
       "│ WO0000004 ┆ Zona      ┆ Cerrado   ┆ 2022-06-0 ┆ … ┆ IMPERIAL  ┆ 255001    ┆ 9         ┆ 7 a 15   │\n",
       "│ 122302    ┆ Norte     ┆           ┆ 1         ┆   ┆           ┆           ┆           ┆ días     │\n",
       "│ WO0000004 ┆ Zona      ┆ Cerrado   ┆ 2022-06-0 ┆ … ┆ IMPERIAL  ┆ 255001    ┆ 16        ┆ + de 15  │\n",
       "│ 122303    ┆ Norte     ┆           ┆ 1         ┆   ┆           ┆           ┆           ┆ días     │\n",
       "│ WO0000004 ┆ Zona      ┆ Cerrado   ┆ 2022-06-0 ┆ … ┆ PLAZA     ┆ 191062    ┆ 4         ┆ 3 a 7    │\n",
       "│ 122353    ┆ Centro    ┆           ┆ 1         ┆   ┆ UNION     ┆           ┆           ┆ días     │\n",
       "│ WO0000004 ┆ Zona      ┆ Cerrado   ┆ 2022-06-0 ┆ … ┆ AREQUIPA  ┆ 215000    ┆ 12        ┆ 7 a 15   │\n",
       "│ 122360    ┆ Norte     ┆           ┆ 1         ┆   ┆           ┆           ┆           ┆ días     │\n",
       "│ WO0000004 ┆ Zona      ┆ Rechazado ┆ 2022-06-0 ┆ … ┆ PLAZA     ┆ 191058    ┆ 5         ┆ 3 a 7    │\n",
       "│ 122387    ┆ Centro    ┆           ┆ 1         ┆   ┆ LIMA      ┆           ┆           ┆ días     │\n",
       "│           ┆           ┆           ┆           ┆   ┆ NORTE     ┆           ┆           ┆          │\n",
       "└───────────┴───────────┴───────────┴───────────┴───┴───────────┴───────────┴───────────┴──────────┘"
      ]
     },
     "execution_count": 131,
     "metadata": {},
     "output_type": "execute_result"
    }
   ],
   "source": [
    "Tickets.head(10)"
   ]
  },
  {
   "cell_type": "markdown",
   "metadata": {},
   "source": [
    "#### TRANSFORMACION BASE ATENCIONES"
   ]
  },
  {
   "cell_type": "code",
   "execution_count": 85,
   "metadata": {},
   "outputs": [],
   "source": [
    "# Importando libreria Path\n",
    "from pathlib import Path"
   ]
  },
  {
   "cell_type": "code",
   "execution_count": 87,
   "metadata": {},
   "outputs": [
    {
     "name": "stdout",
     "output_type": "stream",
     "text": [
      "Atenciones\\Atenciones Centro.xlsx\n",
      "Atenciones\\Atenciones Norte.xlsx\n",
      "Atenciones\\Atenciones Sur.xlsx\n"
     ]
    }
   ],
   "source": [
    "#Definimos la carpeta y cargamos un alista con los archivos que terminan en .xlsx\n",
    "\n",
    "RutaCarpeta = Path('./Atenciones/')\n",
    "ArchivosExcel = list(RutaCarpeta.glob('*.xlsx'))"
   ]
  },
  {
   "cell_type": "code",
   "execution_count": 122,
   "metadata": {},
   "outputs": [
    {
     "name": "stderr",
     "output_type": "stream",
     "text": [
      "C:\\Users\\ASUS\\AppData\\Local\\Temp\\ipykernel_13264\\2320347985.py:7: DeprecationWarning: `the argument read_csv_options` for `read_excel` is deprecated. It has been renamed to `read_options`.\n",
      "  aux_DF = pl.read_excel(\n"
     ]
    },
    {
     "data": {
      "text/html": [
       "<div><style>\n",
       ".dataframe > thead > tr,\n",
       ".dataframe > tbody > tr {\n",
       "  text-align: right;\n",
       "  white-space: pre-wrap;\n",
       "}\n",
       "</style>\n",
       "<small>shape: (5, 5)</small><table border=\"1\" class=\"dataframe\"><thead><tr><th>Numero Ticket</th><th>Tipo de Ticket</th><th>Proveedor</th><th>Costo Atencion</th><th>Nombre Archivo</th></tr><tr><td>str</td><td>str</td><td>str</td><td>str</td><td>str</td></tr></thead><tbody><tr><td>&quot;WO0000005584689&quot;</td><td>&quot;Variable&quot;</td><td>&quot;MR EXPRESS&quot;</td><td>null</td><td>&quot;Atenciones Centro.xlsx&quot;</td></tr><tr><td>&quot;WO0000004544943&quot;</td><td>&quot;Rechazado&quot;</td><td>null</td><td>&quot;100&quot;</td><td>&quot;Atenciones Centro.xlsx&quot;</td></tr><tr><td>&quot;WO0000004545246&quot;</td><td>&quot;Rechazado&quot;</td><td>null</td><td>&quot;100&quot;</td><td>&quot;Atenciones Centro.xlsx&quot;</td></tr><tr><td>&quot;WO0000004559125&quot;</td><td>&quot;Rechazado&quot;</td><td>null</td><td>&quot;100&quot;</td><td>&quot;Atenciones Centro.xlsx&quot;</td></tr><tr><td>&quot;WO0000004707477&quot;</td><td>&quot;Rechazado&quot;</td><td>null</td><td>&quot;100&quot;</td><td>&quot;Atenciones Centro.xlsx&quot;</td></tr></tbody></table></div>"
      ],
      "text/plain": [
       "shape: (5, 5)\n",
       "┌─────────────────┬────────────────┬────────────┬────────────────┬────────────────────────┐\n",
       "│ Numero Ticket   ┆ Tipo de Ticket ┆ Proveedor  ┆ Costo Atencion ┆ Nombre Archivo         │\n",
       "│ ---             ┆ ---            ┆ ---        ┆ ---            ┆ ---                    │\n",
       "│ str             ┆ str            ┆ str        ┆ str            ┆ str                    │\n",
       "╞═════════════════╪════════════════╪════════════╪════════════════╪════════════════════════╡\n",
       "│ WO0000005584689 ┆ Variable       ┆ MR EXPRESS ┆ null           ┆ Atenciones Centro.xlsx │\n",
       "│ WO0000004544943 ┆ Rechazado      ┆ null       ┆ 100            ┆ Atenciones Centro.xlsx │\n",
       "│ WO0000004545246 ┆ Rechazado      ┆ null       ┆ 100            ┆ Atenciones Centro.xlsx │\n",
       "│ WO0000004559125 ┆ Rechazado      ┆ null       ┆ 100            ┆ Atenciones Centro.xlsx │\n",
       "│ WO0000004707477 ┆ Rechazado      ┆ null       ┆ 100            ┆ Atenciones Centro.xlsx │\n",
       "└─────────────────┴────────────────┴────────────┴────────────────┴────────────────────────┘"
      ]
     },
     "execution_count": 122,
     "metadata": {},
     "output_type": "execute_result"
    }
   ],
   "source": [
    "Atenciones = pl.DataFrame()\n",
    "\n",
    "for archivo in ArchivosExcel:\n",
    "    \n",
    "    file = str(archivo).split(\"\\\\\")[1]\n",
    "    \n",
    "    aux_DF = pl.read_excel(\n",
    "        source = './Atenciones/' + file ,\n",
    "        sheet_name='Hoja1',\n",
    "        engine='xlsx2csv',\n",
    "        read_csv_options={\n",
    "            \"infer_schema_length\": 0,\n",
    "            \"columns\": [\"Numero Ticket\", \"Tipo de Ticket\", \"Proveedor\", \"Costo Atencion\"]\n",
    "        }\n",
    "    )\n",
    "\n",
    "    aux_DF = aux_DF.with_columns(pl.lit(file).alias('Nombre Archivo'))\n",
    "    Atenciones = pl.concat([Atenciones, aux_DF], how= 'vertical')\n",
    "    \n",
    "Atenciones.head()\n"
   ]
  },
  {
   "cell_type": "code",
   "execution_count": 123,
   "metadata": {},
   "outputs": [
    {
     "data": {
      "text/html": [
       "<div><style>\n",
       ".dataframe > thead > tr,\n",
       ".dataframe > tbody > tr {\n",
       "  text-align: right;\n",
       "  white-space: pre-wrap;\n",
       "}\n",
       "</style>\n",
       "<small>shape: (5, 5)</small><table border=\"1\" class=\"dataframe\"><thead><tr><th>Numero Ticket</th><th>Tipo de Ticket</th><th>Proveedor</th><th>Costo Atencion</th><th>Nombre Archivo</th></tr><tr><td>str</td><td>str</td><td>str</td><td>str</td><td>str</td></tr></thead><tbody><tr><td>&quot;WO0000005204817&quot;</td><td>&quot;Emergencia&quot;</td><td>&quot;PUNTO CONTROL AMBIENTAL&quot;</td><td>&quot;2249,08&quot;</td><td>&quot;Atenciones Centro.xlsx&quot;</td></tr><tr><td>&quot;WO0000004872502&quot;</td><td>&quot;Variable&quot;</td><td>&quot;PUNTO CONTROL AMBIENTAL&quot;</td><td>&quot;COSTO CERO&quot;</td><td>&quot;Atenciones Centro.xlsx&quot;</td></tr><tr><td>&quot;WO0000004896568&quot;</td><td>&quot;Variable&quot;</td><td>&quot;COORPORACION R&amp;M&quot;</td><td>&quot;COSTO CERO&quot;</td><td>&quot;Atenciones Centro.xlsx&quot;</td></tr><tr><td>&quot;WO0000004900368&quot;</td><td>&quot;Variable&quot;</td><td>&quot;COORPORACION R&amp;M&quot;</td><td>&quot;COSTO CERO&quot;</td><td>&quot;Atenciones Centro.xlsx&quot;</td></tr><tr><td>&quot;WO0000004902886&quot;</td><td>&quot;Variable&quot;</td><td>&quot;COORPORACION R&amp;M&quot;</td><td>&quot;COSTO CERO&quot;</td><td>&quot;Atenciones Centro.xlsx&quot;</td></tr></tbody></table></div>"
      ],
      "text/plain": [
       "shape: (5, 5)\n",
       "┌─────────────────┬────────────────┬──────────────────┬────────────────┬────────────────────────┐\n",
       "│ Numero Ticket   ┆ Tipo de Ticket ┆ Proveedor        ┆ Costo Atencion ┆ Nombre Archivo         │\n",
       "│ ---             ┆ ---            ┆ ---              ┆ ---            ┆ ---                    │\n",
       "│ str             ┆ str            ┆ str              ┆ str            ┆ str                    │\n",
       "╞═════════════════╪════════════════╪══════════════════╪════════════════╪════════════════════════╡\n",
       "│ WO0000005204817 ┆ Emergencia     ┆ PUNTO CONTROL    ┆ 2249,08        ┆ Atenciones Centro.xlsx │\n",
       "│                 ┆                ┆ AMBIENTAL        ┆                ┆                        │\n",
       "│ WO0000004872502 ┆ Variable       ┆ PUNTO CONTROL    ┆ COSTO CERO     ┆ Atenciones Centro.xlsx │\n",
       "│                 ┆                ┆ AMBIENTAL        ┆                ┆                        │\n",
       "│ WO0000004896568 ┆ Variable       ┆ COORPORACION R&M ┆ COSTO CERO     ┆ Atenciones Centro.xlsx │\n",
       "│ WO0000004900368 ┆ Variable       ┆ COORPORACION R&M ┆ COSTO CERO     ┆ Atenciones Centro.xlsx │\n",
       "│ WO0000004902886 ┆ Variable       ┆ COORPORACION R&M ┆ COSTO CERO     ┆ Atenciones Centro.xlsx │\n",
       "└─────────────────┴────────────────┴──────────────────┴────────────────┴────────────────────────┘"
      ]
     },
     "execution_count": 123,
     "metadata": {},
     "output_type": "execute_result"
    }
   ],
   "source": [
    "# valido si hay columnas que tengan COSTO CERO o SIN COSTO o , en la columna Costo Atencion\n",
    "\n",
    "Atenciones.filter(\n",
    "    pl.col('Costo Atencion').str.contains(',|COSTO CERO|SIN COSTO')\n",
    ").head()\n",
    "\n"
   ]
  },
  {
   "cell_type": "code",
   "execution_count": 124,
   "metadata": {},
   "outputs": [
    {
     "data": {
      "text/html": [
       "<div><style>\n",
       ".dataframe > thead > tr,\n",
       ".dataframe > tbody > tr {\n",
       "  text-align: right;\n",
       "  white-space: pre-wrap;\n",
       "}\n",
       "</style>\n",
       "<small>shape: (5, 4)</small><table border=\"1\" class=\"dataframe\"><thead><tr><th>TicketID</th><th>Tipo de Ticket</th><th>Proveedor</th><th>Costo Atencion</th></tr><tr><td>str</td><td>str</td><td>str</td><td>str</td></tr></thead><tbody><tr><td>&quot;WO0000005584689&quot;</td><td>&quot;Variable&quot;</td><td>&quot;MR EXPRESS&quot;</td><td>null</td></tr><tr><td>&quot;WO0000004544943&quot;</td><td>&quot;Rechazado&quot;</td><td>null</td><td>&quot;100&quot;</td></tr><tr><td>&quot;WO0000004545246&quot;</td><td>&quot;Rechazado&quot;</td><td>null</td><td>&quot;100&quot;</td></tr><tr><td>&quot;WO0000004559125&quot;</td><td>&quot;Rechazado&quot;</td><td>null</td><td>&quot;100&quot;</td></tr><tr><td>&quot;WO0000004707477&quot;</td><td>&quot;Rechazado&quot;</td><td>null</td><td>&quot;100&quot;</td></tr></tbody></table></div>"
      ],
      "text/plain": [
       "shape: (5, 4)\n",
       "┌─────────────────┬────────────────┬────────────┬────────────────┐\n",
       "│ TicketID        ┆ Tipo de Ticket ┆ Proveedor  ┆ Costo Atencion │\n",
       "│ ---             ┆ ---            ┆ ---        ┆ ---            │\n",
       "│ str             ┆ str            ┆ str        ┆ str            │\n",
       "╞═════════════════╪════════════════╪════════════╪════════════════╡\n",
       "│ WO0000005584689 ┆ Variable       ┆ MR EXPRESS ┆ null           │\n",
       "│ WO0000004544943 ┆ Rechazado      ┆ null       ┆ 100            │\n",
       "│ WO0000004545246 ┆ Rechazado      ┆ null       ┆ 100            │\n",
       "│ WO0000004559125 ┆ Rechazado      ┆ null       ┆ 100            │\n",
       "│ WO0000004707477 ┆ Rechazado      ┆ null       ┆ 100            │\n",
       "└─────────────────┴────────────────┴────────────┴────────────────┘"
      ]
     },
     "execution_count": 124,
     "metadata": {},
     "output_type": "execute_result"
    }
   ],
   "source": [
    "# Reemplazo la ',' por '.' y 'COSTO CERO', 'SIN COSTO' por 0 , mayusculas y alias\n",
    "\n",
    "Atenciones = Atenciones.select(\n",
    "    pl.col('Numero Ticket').alias('TicketID'),\n",
    "    'Tipo de Ticket', 'Proveedor',\n",
    "    pl.col('Costo Atencion').str.strip_chars()\n",
    "    .str.to_uppercase()\n",
    "    .str.replace_many(\n",
    "        ['COSTO CERO', 'SIN COSTO',','],\n",
    "        [\"0\",\"0\",\".\"]\n",
    "    )\n",
    ")"
   ]
  },
  {
   "cell_type": "code",
   "execution_count": 125,
   "metadata": {},
   "outputs": [
    {
     "data": {
      "text/html": [
       "<div><style>\n",
       ".dataframe > thead > tr,\n",
       ".dataframe > tbody > tr {\n",
       "  text-align: right;\n",
       "  white-space: pre-wrap;\n",
       "}\n",
       "</style>\n",
       "<small>shape: (0, 4)</small><table border=\"1\" class=\"dataframe\"><thead><tr><th>TicketID</th><th>Tipo de Ticket</th><th>Proveedor</th><th>Costo Atencion</th></tr><tr><td>str</td><td>str</td><td>str</td><td>str</td></tr></thead><tbody></tbody></table></div>"
      ],
      "text/plain": [
       "shape: (0, 4)\n",
       "┌──────────┬────────────────┬───────────┬────────────────┐\n",
       "│ TicketID ┆ Tipo de Ticket ┆ Proveedor ┆ Costo Atencion │\n",
       "│ ---      ┆ ---            ┆ ---       ┆ ---            │\n",
       "│ str      ┆ str            ┆ str       ┆ str            │\n",
       "╞══════════╪════════════════╪═══════════╪════════════════╡\n",
       "└──────────┴────────────────┴───────────┴────────────────┘"
      ]
     },
     "execution_count": 125,
     "metadata": {},
     "output_type": "execute_result"
    }
   ],
   "source": [
    "# valido nuevamente que las transformaciones esten aplicadas\n",
    "\n",
    "Atenciones.filter(\n",
    "    pl.col('Costo Atencion').str.contains(',|COSTO CERO|SIN COSTO')\n",
    ").head()"
   ]
  },
  {
   "cell_type": "code",
   "execution_count": 126,
   "metadata": {},
   "outputs": [],
   "source": [
    "# creo una funcion que me transforme de texto a decimal si no puede retorna None\n",
    "\n",
    "def texto_a_decimal(valor):\n",
    "    try:\n",
    "        return round(float(valor), 2)\n",
    "    except:\n",
    "        return None"
   ]
  },
  {
   "cell_type": "code",
   "execution_count": 129,
   "metadata": {},
   "outputs": [],
   "source": [
    "# transformo Costo atencion en decimal\n",
    "Atenciones = Atenciones.with_columns(\n",
    "    pl.col('Costo Atencion').map_elements(texto_a_decimal).alias('Costo Atencion')\n",
    ")\n"
   ]
  },
  {
   "cell_type": "markdown",
   "metadata": {},
   "source": [
    "##### RESULTADO ESPERADO TABLA ANOTACIONES"
   ]
  },
  {
   "cell_type": "code",
   "execution_count": 130,
   "metadata": {},
   "outputs": [
    {
     "data": {
      "text/html": [
       "<div><style>\n",
       ".dataframe > thead > tr,\n",
       ".dataframe > tbody > tr {\n",
       "  text-align: right;\n",
       "  white-space: pre-wrap;\n",
       "}\n",
       "</style>\n",
       "<small>shape: (10, 4)</small><table border=\"1\" class=\"dataframe\"><thead><tr><th>TicketID</th><th>Tipo de Ticket</th><th>Proveedor</th><th>Costo Atencion</th></tr><tr><td>str</td><td>str</td><td>str</td><td>f64</td></tr></thead><tbody><tr><td>&quot;WO0000005584689&quot;</td><td>&quot;Variable&quot;</td><td>&quot;MR EXPRESS&quot;</td><td>null</td></tr><tr><td>&quot;WO0000004544943&quot;</td><td>&quot;Rechazado&quot;</td><td>null</td><td>100.0</td></tr><tr><td>&quot;WO0000004545246&quot;</td><td>&quot;Rechazado&quot;</td><td>null</td><td>100.0</td></tr><tr><td>&quot;WO0000004559125&quot;</td><td>&quot;Rechazado&quot;</td><td>null</td><td>100.0</td></tr><tr><td>&quot;WO0000004707477&quot;</td><td>&quot;Rechazado&quot;</td><td>null</td><td>100.0</td></tr><tr><td>&quot;WO0000004759976&quot;</td><td>&quot;Rechazado&quot;</td><td>null</td><td>100.0</td></tr><tr><td>&quot;WO0000004795876&quot;</td><td>&quot;Rechazado&quot;</td><td>null</td><td>100.0</td></tr><tr><td>&quot;WO0000004825300&quot;</td><td>&quot;Rechazado&quot;</td><td>null</td><td>100.0</td></tr><tr><td>&quot;WO0000004853680&quot;</td><td>&quot;Flat&quot;</td><td>&quot;ACCENTURE&quot;</td><td>100.0</td></tr><tr><td>&quot;WO0000004925389&quot;</td><td>&quot;Flat&quot;</td><td>&quot;ACCENTURE&quot;</td><td>100.0</td></tr></tbody></table></div>"
      ],
      "text/plain": [
       "shape: (10, 4)\n",
       "┌─────────────────┬────────────────┬────────────┬────────────────┐\n",
       "│ TicketID        ┆ Tipo de Ticket ┆ Proveedor  ┆ Costo Atencion │\n",
       "│ ---             ┆ ---            ┆ ---        ┆ ---            │\n",
       "│ str             ┆ str            ┆ str        ┆ f64            │\n",
       "╞═════════════════╪════════════════╪════════════╪════════════════╡\n",
       "│ WO0000005584689 ┆ Variable       ┆ MR EXPRESS ┆ null           │\n",
       "│ WO0000004544943 ┆ Rechazado      ┆ null       ┆ 100.0          │\n",
       "│ WO0000004545246 ┆ Rechazado      ┆ null       ┆ 100.0          │\n",
       "│ WO0000004559125 ┆ Rechazado      ┆ null       ┆ 100.0          │\n",
       "│ WO0000004707477 ┆ Rechazado      ┆ null       ┆ 100.0          │\n",
       "│ WO0000004759976 ┆ Rechazado      ┆ null       ┆ 100.0          │\n",
       "│ WO0000004795876 ┆ Rechazado      ┆ null       ┆ 100.0          │\n",
       "│ WO0000004825300 ┆ Rechazado      ┆ null       ┆ 100.0          │\n",
       "│ WO0000004853680 ┆ Flat           ┆ ACCENTURE  ┆ 100.0          │\n",
       "│ WO0000004925389 ┆ Flat           ┆ ACCENTURE  ┆ 100.0          │\n",
       "└─────────────────┴────────────────┴────────────┴────────────────┘"
      ]
     },
     "execution_count": 130,
     "metadata": {},
     "output_type": "execute_result"
    }
   ],
   "source": [
    "Atenciones.head(10)"
   ]
  },
  {
   "cell_type": "markdown",
   "metadata": {},
   "source": [
    "### COMBINAR Y EXPORTAR"
   ]
  },
  {
   "cell_type": "code",
   "execution_count": 133,
   "metadata": {},
   "outputs": [],
   "source": [
    "# Unimos los 2 Dataframes con Join\n",
    "Resultado = Tickets.join(\n",
    "    Atenciones,\n",
    "    on = 'TicketID',\n",
    "    how = 'inner'\n",
    ").select(\n",
    "    'TicketID',\n",
    "    'AgenciaID',\n",
    "    'Agencia',\n",
    "    'Service Desk',\n",
    "    'Estado',\n",
    "    'Fecha Creacion',\n",
    "    pl.col('Fecha Real Fin').alias('Fecha Cierre'),\n",
    "    'Grupo Dias',\n",
    "    pl.col('Tipo de Ticket').alias('Tipo Ticket'),\n",
    "    pl.col('Costo Atencion').alias('Costo')\n",
    ")"
   ]
  },
  {
   "cell_type": "code",
   "execution_count": 135,
   "metadata": {},
   "outputs": [
    {
     "data": {
      "text/html": [
       "<div><style>\n",
       ".dataframe > thead > tr,\n",
       ".dataframe > tbody > tr {\n",
       "  text-align: right;\n",
       "  white-space: pre-wrap;\n",
       "}\n",
       "</style>\n",
       "<small>shape: (10, 10)</small><table border=\"1\" class=\"dataframe\"><thead><tr><th>TicketID</th><th>AgenciaID</th><th>Agencia</th><th>Service Desk</th><th>Estado</th><th>Fecha Creacion</th><th>Fecha Cierre</th><th>Grupo Dias</th><th>Tipo Ticket</th><th>Costo</th></tr><tr><td>str</td><td>i64</td><td>str</td><td>str</td><td>str</td><td>date</td><td>date</td><td>str</td><td>str</td><td>f64</td></tr></thead><tbody><tr><td>&quot;WO0000005584689&quot;</td><td>191076</td><td>&quot;LAS MALVINAS&quot;</td><td>&quot;Zona Centro&quot;</td><td>&quot;Cerrado&quot;</td><td>2023-09-08</td><td>2023-09-17</td><td>&quot;7 a 15 días&quot;</td><td>&quot;Variable&quot;</td><td>null</td></tr><tr><td>&quot;WO0000004544943&quot;</td><td>191053</td><td>&quot;URB SAN FELIPE COMAS&quot;</td><td>&quot;Zona Centro&quot;</td><td>&quot;Rechazado&quot;</td><td>2022-10-18</td><td>2022-10-18</td><td>&quot;0 a 3 días&quot;</td><td>&quot;Rechazado&quot;</td><td>100.0</td></tr><tr><td>&quot;WO0000004545246&quot;</td><td>191035</td><td>&quot;PUENTE PIEDRA&quot;</td><td>&quot;Zona Centro&quot;</td><td>&quot;Rechazado&quot;</td><td>2022-10-18</td><td>2022-10-18</td><td>&quot;0 a 3 días&quot;</td><td>&quot;Rechazado&quot;</td><td>100.0</td></tr><tr><td>&quot;WO0000004559125&quot;</td><td>191087</td><td>&quot;EL PINO&quot;</td><td>&quot;Zona Centro&quot;</td><td>&quot;Rechazado&quot;</td><td>2022-10-24</td><td>2022-10-25</td><td>&quot;0 a 3 días&quot;</td><td>&quot;Rechazado&quot;</td><td>100.0</td></tr><tr><td>&quot;WO0000004707477&quot;</td><td>191044</td><td>&quot;LAS ALONDRAS&quot;</td><td>&quot;Zona Centro&quot;</td><td>&quot;Rechazado&quot;</td><td>2022-11-08</td><td>null</td><td>null</td><td>&quot;Rechazado&quot;</td><td>100.0</td></tr><tr><td>&quot;WO0000004759976&quot;</td><td>193022</td><td>&quot;ROSA TORO&quot;</td><td>&quot;Zona Centro&quot;</td><td>&quot;Rechazado&quot;</td><td>2022-11-26</td><td>null</td><td>null</td><td>&quot;Rechazado&quot;</td><td>100.0</td></tr><tr><td>&quot;WO0000004795876&quot;</td><td>470000</td><td>&quot;PISCO&quot;</td><td>&quot;Zona Centro&quot;</td><td>&quot;Rechazado&quot;</td><td>2022-12-09</td><td>null</td><td>null</td><td>&quot;Rechazado&quot;</td><td>100.0</td></tr><tr><td>&quot;WO0000004825300&quot;</td><td>191058</td><td>&quot;PLAZA LIMA NORTE&quot;</td><td>&quot;Zona Centro&quot;</td><td>&quot;Rechazado&quot;</td><td>2022-12-19</td><td>null</td><td>null</td><td>&quot;Rechazado&quot;</td><td>100.0</td></tr><tr><td>&quot;WO0000004853680&quot;</td><td>192026</td><td>&quot;PLAZA CIVICA VENTANILLA&quot;</td><td>&quot;Zona Centro&quot;</td><td>&quot;Cerrado&quot;</td><td>2023-01-02</td><td>2023-01-08</td><td>&quot;3 a 7 días&quot;</td><td>&quot;Flat&quot;</td><td>100.0</td></tr><tr><td>&quot;WO0000004925389&quot;</td><td>193064</td><td>&quot;DEL AIRE&quot;</td><td>&quot;Zona Centro&quot;</td><td>&quot;Cerrado&quot;</td><td>2023-01-24</td><td>2023-02-10</td><td>&quot;+ de 15 días&quot;</td><td>&quot;Flat&quot;</td><td>100.0</td></tr></tbody></table></div>"
      ],
      "text/plain": [
       "shape: (10, 10)\n",
       "┌────────────┬───────────┬────────────┬────────────┬───┬───────────┬───────────┬───────────┬───────┐\n",
       "│ TicketID   ┆ AgenciaID ┆ Agencia    ┆ Service    ┆ … ┆ Fecha     ┆ Grupo     ┆ Tipo      ┆ Costo │\n",
       "│ ---        ┆ ---       ┆ ---        ┆ Desk       ┆   ┆ Cierre    ┆ Dias      ┆ Ticket    ┆ ---   │\n",
       "│ str        ┆ i64       ┆ str        ┆ ---        ┆   ┆ ---       ┆ ---       ┆ ---       ┆ f64   │\n",
       "│            ┆           ┆            ┆ str        ┆   ┆ date      ┆ str       ┆ str       ┆       │\n",
       "╞════════════╪═══════════╪════════════╪════════════╪═══╪═══════════╪═══════════╪═══════════╪═══════╡\n",
       "│ WO00000055 ┆ 191076    ┆ LAS        ┆ Zona       ┆ … ┆ 2023-09-1 ┆ 7 a 15    ┆ Variable  ┆ null  │\n",
       "│ 84689      ┆           ┆ MALVINAS   ┆ Centro     ┆   ┆ 7         ┆ días      ┆           ┆       │\n",
       "│ WO00000045 ┆ 191053    ┆ URB SAN    ┆ Zona       ┆ … ┆ 2022-10-1 ┆ 0 a 3     ┆ Rechazado ┆ 100.0 │\n",
       "│ 44943      ┆           ┆ FELIPE     ┆ Centro     ┆   ┆ 8         ┆ días      ┆           ┆       │\n",
       "│            ┆           ┆ COMAS      ┆            ┆   ┆           ┆           ┆           ┆       │\n",
       "│ WO00000045 ┆ 191035    ┆ PUENTE     ┆ Zona       ┆ … ┆ 2022-10-1 ┆ 0 a 3     ┆ Rechazado ┆ 100.0 │\n",
       "│ 45246      ┆           ┆ PIEDRA     ┆ Centro     ┆   ┆ 8         ┆ días      ┆           ┆       │\n",
       "│ WO00000045 ┆ 191087    ┆ EL PINO    ┆ Zona       ┆ … ┆ 2022-10-2 ┆ 0 a 3     ┆ Rechazado ┆ 100.0 │\n",
       "│ 59125      ┆           ┆            ┆ Centro     ┆   ┆ 5         ┆ días      ┆           ┆       │\n",
       "│ WO00000047 ┆ 191044    ┆ LAS        ┆ Zona       ┆ … ┆ null      ┆ null      ┆ Rechazado ┆ 100.0 │\n",
       "│ 07477      ┆           ┆ ALONDRAS   ┆ Centro     ┆   ┆           ┆           ┆           ┆       │\n",
       "│ WO00000047 ┆ 193022    ┆ ROSA TORO  ┆ Zona       ┆ … ┆ null      ┆ null      ┆ Rechazado ┆ 100.0 │\n",
       "│ 59976      ┆           ┆            ┆ Centro     ┆   ┆           ┆           ┆           ┆       │\n",
       "│ WO00000047 ┆ 470000    ┆ PISCO      ┆ Zona       ┆ … ┆ null      ┆ null      ┆ Rechazado ┆ 100.0 │\n",
       "│ 95876      ┆           ┆            ┆ Centro     ┆   ┆           ┆           ┆           ┆       │\n",
       "│ WO00000048 ┆ 191058    ┆ PLAZA LIMA ┆ Zona       ┆ … ┆ null      ┆ null      ┆ Rechazado ┆ 100.0 │\n",
       "│ 25300      ┆           ┆ NORTE      ┆ Centro     ┆   ┆           ┆           ┆           ┆       │\n",
       "│ WO00000048 ┆ 192026    ┆ PLAZA      ┆ Zona       ┆ … ┆ 2023-01-0 ┆ 3 a 7     ┆ Flat      ┆ 100.0 │\n",
       "│ 53680      ┆           ┆ CIVICA     ┆ Centro     ┆   ┆ 8         ┆ días      ┆           ┆       │\n",
       "│            ┆           ┆ VENTANILLA ┆            ┆   ┆           ┆           ┆           ┆       │\n",
       "│ WO00000049 ┆ 193064    ┆ DEL AIRE   ┆ Zona       ┆ … ┆ 2023-02-1 ┆ + de 15   ┆ Flat      ┆ 100.0 │\n",
       "│ 25389      ┆           ┆            ┆ Centro     ┆   ┆ 0         ┆ días      ┆           ┆       │\n",
       "└────────────┴───────────┴────────────┴────────────┴───┴───────────┴───────────┴───────────┴───────┘"
      ]
     },
     "execution_count": 135,
     "metadata": {},
     "output_type": "execute_result"
    }
   ],
   "source": [
    "# resultado final\n",
    "Resultado.head(10)"
   ]
  },
  {
   "cell_type": "code",
   "execution_count": 138,
   "metadata": {},
   "outputs": [
    {
     "data": {
      "text/plain": [
       "<xlsxwriter.workbook.Workbook at 0x18f403d8610>"
      ]
     },
     "execution_count": 138,
     "metadata": {},
     "output_type": "execute_result"
    }
   ],
   "source": [
    "# Exportar resultado a excel  instalar pip install xlsxwriter\n",
    "\n",
    "Resultado.write_excel(\n",
    "    workbook='Consolidado.xlsx',\n",
    "    worksheet='Atenciones',\n",
    "    table_style=\"Table Style Light 16\",\n",
    "    dtype_formats = {pl.Date: \"dd/mm/yyyy\"},\n",
    "    float_precision=2,\n",
    "    autofit=True\n",
    ")"
   ]
  }
 ],
 "metadata": {
  "kernelspec": {
   "display_name": "ENV_CesarOliveros",
   "language": "python",
   "name": "python3"
  },
  "language_info": {
   "codemirror_mode": {
    "name": "ipython",
    "version": 3
   },
   "file_extension": ".py",
   "mimetype": "text/x-python",
   "name": "python",
   "nbconvert_exporter": "python",
   "pygments_lexer": "ipython3",
   "version": "3.11.7"
  }
 },
 "nbformat": 4,
 "nbformat_minor": 2
}
